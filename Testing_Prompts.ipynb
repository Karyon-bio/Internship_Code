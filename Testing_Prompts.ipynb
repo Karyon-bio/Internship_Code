{
  "metadata": {
    "kernelspec": {
      "language": "python",
      "display_name": "Python 3",
      "name": "python3"
    },
    "language_info": {
      "name": "python",
      "version": "3.10.12",
      "mimetype": "text/x-python",
      "codemirror_mode": {
        "name": "ipython",
        "version": 3
      },
      "pygments_lexer": "ipython3",
      "nbconvert_exporter": "python",
      "file_extension": ".py"
    },
    "kaggle": {
      "accelerator": "none",
      "dataSources": [],
      "dockerImageVersionId": 30918,
      "isInternetEnabled": true,
      "language": "python",
      "sourceType": "notebook",
      "isGpuEnabled": false
    },
    "colab": {
      "provenance": []
    }
  },
  "nbformat_minor": 0,
  "nbformat": 4,
  "cells": [
    {
      "cell_type": "markdown",
      "source": [
        "# Programs\n",
        "* check code\n",
        "* check directory organization\n",
        "* check ReadME file\n",
        "* check dependency and requirments files"
      ],
      "metadata": {
        "id": "T4MGwOc3r0Sx"
      }
    },
    {
      "cell_type": "markdown",
      "source": [
        "* python file -> python objects per each function\n",
        "* save object\n",
        "  * pyntrospect\n",
        "    * import ast\n",
        "    * import inspect\n",
        "* run each object as an input to the review_code function\n",
        "* save output into a dataframe\n",
        "* concat dataframe"
      ],
      "metadata": {
        "id": "RJpqUZs5tEmH"
      }
    },
    {
      "cell_type": "code",
      "source": [
        "import openai\n",
        "\n",
        "# Replace with your OpenAI API Key\n",
        "\n",
        "def review_code(source_code):\n",
        "    \"\"\"Sends code to GPT-4o Mini for review based on readability, documentation, error handling, and overall quality.\"\"\"\n",
        "\n",
        "    client = openai.OpenAI(api_key=OPENAI_API_KEY)\n",
        "\n",
        "    prompt = f\"\"\"\n",
        "      Review the given python code based on the parameters given:\n",
        "      If the python code input contains only import statements, then check for import rules and do not add any new code\n",
        "      else if the python code is a top level statement, check the lines in the code but do not add new function scripts for undefined functions called in the code\n",
        "      else if the input does not fall into the previous categories then, grade on the following aspects,\n",
        "      1. **Formating** (PEP 8 standards for blank spaces, imports, line length, and white spaces)\n",
        "      2. **Documentation (PEP 8 standards for documentation quality)\n",
        "      3. **Naming Conventions** (PEP 8 Naming standards are followed)\n",
        "      4. **Exception Handling** (PEP 8 standards, no use of bare exceptions, log meaningful errors)\n",
        "      5. **Overall Quality** (Efficiency and Maintainability of the code)\n",
        "\n",
        "      Provide scores out of 10 for each of the aspects in a JSON format giving a 2 to 5 sentence reason for the score containing all issues, along with the line numbers of the problematic code.\n",
        "      Additionally provide a refactored code that could score the maximum in all aspects while keeping the original functionality.\n",
        "\n",
        "    ```\n",
        "    {source_code}\n",
        "    ```\n",
        "\n",
        "    \"\"\"\n",
        "\n",
        "    try:\n",
        "        response = client.chat.completions.create(\n",
        "            model=\"gpt-4o-mini\",\n",
        "            messages=[{\"role\": \"user\", \"content\": prompt}],\n",
        "            max_tokens=500\n",
        "        )\n",
        "\n",
        "        return response.choices[0].message.content\n",
        "\n",
        "    except Exception as e:\n",
        "        return f\"Error: {str(e)}\"\n",
        "\n",
        "# Example usage\n",
        "if __name__ == \"__main__\":\n",
        "    test_code = '''\n",
        "def divide(a, b):\n",
        "    return a / b  # No error handling\n",
        "\n",
        "print(divide(10, 2))\n",
        "print(divide(5, 0))  # This will cause an error\n",
        "    '''\n",
        "\n",
        "    review_result = review_code(test_code)\n",
        "    print(review_result)\n"
      ],
      "metadata": {
        "_uuid": "8f2839f25d086af736a60e9eeb907d3b93b6e0e5",
        "_cell_guid": "b1076dfc-b9ad-4769-8c92-a6c4dae69d19",
        "trusted": true,
        "execution": {
          "iopub.status.busy": "2025-02-21T15:13:44.643063Z",
          "iopub.execute_input": "2025-02-21T15:13:44.643387Z",
          "iopub.status.idle": "2025-02-21T15:13:54.858899Z",
          "shell.execute_reply.started": "2025-02-21T15:13:44.643362Z",
          "shell.execute_reply": "2025-02-21T15:13:54.858040Z"
        },
        "id": "2YLn6Oj8iRcr",
        "outputId": "3ff5eb29-6112-4d19-da9c-e1567d99d080",
        "colab": {
          "base_uri": "https://localhost:8080/"
        },
        "collapsed": true
      },
      "outputs": [
        {
          "output_type": "stream",
          "name": "stdout",
          "text": [
            "Based on the provided Python code, here is the review and grading for the given aspects:\n",
            "\n",
            "### Grading\n",
            "\n",
            "```json\n",
            "{\n",
            "    \"Formatting\": {\n",
            "        \"score\": 6,\n",
            "        \"reason\": \"The code generally follows PEP 8 formatting guidelines, but there are issues with inconsistent spacing, particularly around function calls. The comment on the second print statement could lead to confusion as it does not conform to conventional spacing practices.\",\n",
            "        \"problematic_lines\": [4, 5]\n",
            "    },\n",
            "    \"Documentation\": {\n",
            "        \"score\": 3,\n",
            "        \"reason\": \"The code lacks documentation and comments to describe the function's behavior, parameters, and exceptions it may raise. There should be a docstring explaining what the function does, including its inputs and outputs.\",\n",
            "        \"problematic_lines\": [1]\n",
            "    },\n",
            "    \"Naming Conventions\": {\n",
            "        \"score\": 9,\n",
            "        \"reason\": \"The naming conventions for the function and its parameters follow PEP 8 guidelines, such as using lowercase with underscores in the function name and meaningful variable names.\",\n",
            "        \"problematic_lines\": []\n",
            "    },\n",
            "    \"Exception Handling\": {\n",
            "        \"score\": 2,\n",
            "        \"reason\": \"There is no exception handling for the division operation, particularly for a division by zero. This results in a runtime error without proper management or logging of that error.\",\n",
            "        \"problematic_lines\": [2, 5]\n",
            "    },\n",
            "    \"Overall Quality\": {\n",
            "        \"score\": 5,\n",
            "        \"reason\": \"While the function performs its basic task efficiently, the absence of error handling and documentation considerably lowers its maintainability and quality. The code may lead to crashes under some inputs.\",\n",
            "        \"problematic_lines\": [2, 5]\n",
            "    }\n",
            "}\n",
            "```\n",
            "\n",
            "### Refactored Code\n",
            "\n",
            "Here’s a refactored version of the original code that addresses the issues and strives for maximum score in all aspects:\n",
            "\n",
            "```python\n",
            "def divide(a, b):\n",
            "    \"\"\"Divides two numbers and handles division by zero.\n",
            "\n",
            "    Args:\n",
            "        a (float): The numerator.\n",
            "        b (float): The denominator.\n",
            "\n",
            "    Returns:\n",
            "        float: The result of the division if successful.\n",
            "        \n",
            "    Raises:\n",
            "        ValueError: If the denominator is zero.\n",
            "    \"\"\"\n",
            "    if b == 0:\n",
            "        raise ValueError(\"Denominator cannot be zero.\")\n",
            "    return a / b\n",
            "\n",
            "try:\n",
            "    print(divide(10, 2))\n",
            "    print(div\n"
          ]
        }
      ],
      "execution_count": null
    },
    {
      "cell_type": "code",
      "source": [
        "def directory_tree():\n",
        "    \"\"\"\n",
        "    Produce a text file that contains the current directory and file tree\n",
        "\n",
        "    Returns:\n",
        "        text file: Directory tree saved as a text file\n",
        "    \"\"\"\n",
        "    home_path = os.getcwd()\n",
        "    tree_file = os.path.basename(home_path) + '.txt'\n",
        "\n",
        "    with open(tree_file, 'w') as newfile:\n",
        "        for base, directories, files in os.walk(home_path):\n",
        "            level = base.replace(home_path, \"\").count(os.sep)\n",
        "            indent = f\"{level}\" + \"dir\" + (\" \" * 3 * level) + \" \"\n",
        "            newfile.write(f\"{indent}{os.path.basename(base)}/\\n\")  # Write folder name\n",
        "            sub_indent = f\"{level}\" + \"file\" + (\" \" * 3 * level) + \" \"\n",
        "            for file in files:\n",
        "                newfile.write(f\"{sub_indent}{file}\\n\")\n"
      ],
      "metadata": {
        "id": "cqWWn2d7AKb_"
      },
      "execution_count": null,
      "outputs": []
    },
    {
      "cell_type": "code",
      "source": [
        "directory_tree()"
      ],
      "metadata": {
        "id": "s1X-6YYqA_s9"
      },
      "execution_count": null,
      "outputs": []
    },
    {
      "cell_type": "code",
      "source": [
        "import os\n",
        "import openai\n",
        "import re\n",
        "\n",
        "def review_directory():\n",
        "\n",
        "  home_path = os.getcwd()\n",
        "  tree_file = os.path.basename(home_path) + '.txt'\n",
        "  client = openai.OpenAI(api_key=OPENAI_API_KEY)\n",
        "\n",
        "  with open(tree_file, 'r') as newfile:\n",
        "    directory_tree_file = newfile.read()\n",
        "  prompt = f\"\"\"\n",
        "             Review the given Directory tree text file and grade it on the parameters given:\n",
        "             1. Kedro Organization standards\n",
        "             2. Kedro Naming standards\n",
        "             3. If applicable, Packaging standards\n",
        "             This will result in two outputs:\n",
        "             1. A text file named graded_{tree_file} containing a Grade for each aspect out of 100 and give 2 bullet points for the reasonings\n",
        "             and how to imporve to the directory tree\n",
        "             2. A text file named revised_{tree_file} containing a revised Directory tree, this tree can be made with new or renamed folders\n",
        "             however the previous name of the folder or file must be in brackets, use the same format as the original directory tree\n",
        "\n",
        "            '''\n",
        "            {directory_tree_file}\n",
        "            '''\n",
        "\n",
        "          \"\"\"\n",
        "  try:\n",
        "        response = client.chat.completions.create(\n",
        "            model=\"gpt-4o-mini\",\n",
        "            messages=[{\"role\": \"user\", \"content\": prompt}],\n",
        "            max_tokens=500\n",
        "        )\n",
        "\n",
        "        output = response.choices[0].message.content\n",
        "        output_split1 = re.findall(r'###.*?###', output, re.DOTALL)\n",
        "        output_split2 = re.findall(r\"0dir.*\", output, re.DOTALL)\n",
        "        print(output)\n",
        "        print(output_split2)\n",
        "\n",
        "        with open(f'graded_{tree_file}', \"w\") as file1:\n",
        "            file1.write(output_split1[0])\n",
        "\n",
        "        with open(f'revised_{tree_file}', \"w\") as file2:\n",
        "            file2.write(output_split2[0])\n",
        "\n",
        "  except Exception as e:\n",
        "        return f\"Error: {str(e)}\"\n",
        "\n"
      ],
      "metadata": {
        "id": "ONb23nAn0c8j"
      },
      "execution_count": null,
      "outputs": []
    },
    {
      "cell_type": "code",
      "source": [
        "review_directory()"
      ],
      "metadata": {
        "colab": {
          "base_uri": "https://localhost:8080/"
        },
        "id": "9RHpEzrB0qAD",
        "outputId": "1c23940a-cd4b-4157-c64a-ab3e3fa690af"
      },
      "execution_count": null,
      "outputs": [
        {
          "output_type": "stream",
          "name": "stdout",
          "text": [
            "# Graded Content\n",
            "\n",
            "### Grading Results\n",
            "\n",
            "1. **Kedro Organization Standards: 70/100**\n",
            "   - The directory tree follows a general structure, but there are areas that can be improved for better organization.\n",
            "   - Consider grouping related files or folders (e.g., configurations and logs) for clearer project organization.\n",
            "\n",
            "2. **Kedro Naming Standards: 60/100**\n",
            "   - Some names do not follow the typical Kedro conventions for clarity and consistency (e.g., using lowercase and underscores).\n",
            "   - Ensure file and directory names are descriptive, adhering consistently to the standard naming conventions.\n",
            "\n",
            "3. **Packaging Standards: 80/100**\n",
            "   - There is some adherence to creating a structured hierarchy; however, certain files may not belong in the top-level directories.\n",
            "   - Review the necessity of placing certain files (e.g., `.last_update_check.json`, `.last_opt_in_prompt.yaml`) at the top level and consider moving them into a configuration or logs folder for clarity.\n",
            "\n",
            "### Recommendations for Improvement\n",
            "- Consider adopting a more consistent naming strategy that employs lowercase and underscores for all file and directory names to enhance readability.\n",
            "- Group similar items logically to improve the usability and organization of the project structure.\n",
            "\n",
            "### Outputs\n",
            "\n",
            "**graded_content.txt**\n",
            "```\n",
            "Kedro Organization Standards: 70/100\n",
            "- The directory tree follows a general structure, but there are areas that can be improved for better organization.\n",
            "- Consider grouping related files or folders (e.g., configurations and logs) for clearer project organization.\n",
            "\n",
            "Kedro Naming Standards: 60/100\n",
            "- Some names do not follow the typical Kedro conventions for clarity and consistency (e.g., using lowercase and underscores).\n",
            "- Ensure file and directory names are descriptive, adhering consistently to the standard naming conventions.\n",
            "\n",
            "Packaging Standards: 80/100\n",
            "- There is some adherence to creating a structured hierarchy; however, certain files may not belong in the top-level directories.\n",
            "- Review the necessity of placing certain files (e.g., `.last_update_check.json`, `.last_opt_in_prompt.yaml`) at the top level and consider moving them into a configuration or logs folder for clarity.\n",
            "```\n",
            "\n",
            "**revised_content.txt**\n",
            "```\n",
            "0dir content/\n",
            "0file content.txt\n",
            "1dir    .config/ (configurations/)\n",
            "1file    active_config\n",
            "1file    hidden_gcloud_config_universe_descriptor_data_cache_configs.db\n",
            "1file    gce\n",
            "1file    config_sentinel\n",
            "1file   \n",
            "['0dir content/\\n0file content.txt\\n1dir    .config/ (configurations/)\\n1file    active_config\\n1file    hidden_gcloud_config_universe_descriptor_data_cache_configs.db\\n1file    gce\\n1file    config_sentinel\\n1file   ']\n"
          ]
        }
      ]
    },
    {
      "cell_type": "markdown",
      "source": [
        "convert to json\n",
        "create a template"
      ],
      "metadata": {
        "id": "HabQcEp0mSoN"
      }
    },
    {
      "cell_type": "code",
      "source": [],
      "metadata": {
        "id": "d9_kUNoYmVbw"
      },
      "execution_count": null,
      "outputs": []
    }
  ]
}